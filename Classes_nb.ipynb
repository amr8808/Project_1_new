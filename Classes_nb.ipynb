{
 "cells": [
  {
   "cell_type": "markdown",
   "id": "031bc5c3",
   "metadata": {},
   "source": [
    "### Collection Level OpenSea API"
   ]
  },
  {
   "cell_type": "code",
   "execution_count": null,
   "id": "fe6e194d",
   "metadata": {},
   "outputs": [],
   "source": [
    "import requests\n",
    "import pandas as pd\n",
    "import hvplot.pandas\n",
    "import plotly.express as px\n",
    "import panel as pn\n"
   ]
  },
  {
   "cell_type": "code",
   "execution_count": 126,
   "id": "495bb517",
   "metadata": {},
   "outputs": [],
   "source": [
    "# class to pull data from collection level opensea api\n",
    "# must cast query url to variable url\n",
    "# url = 'https://api.opensea.io/api/v...'\n",
    "\n",
    "class openseacollection:\n",
    "    def __init__ (self, url):\n",
    "        self.url = url   #assign query url to \"self.url\"\n",
    "        self.get_data()  #run get_data method\n",
    "        self.get_attributes() #run get attribute method\n",
    "#         self.collection = self.collection()\n",
    "\n",
    "    def get_data(self):\n",
    "        self.data = requests.request(\"GET\", self.url).json() #assign query json to \"self.data\"\n",
    "\n",
    "    def get_attributes(self): # run functions for each attribute\n",
    "        self.num_sales = [x['num_sales'] for x in self.data['assets']]\n",
    "        self.token_id = [x['token_id'] for x in self.data['assets']]\n",
    "        self.name = [x['name'] for x in self.data['assets']]\n",
    "        self.last_sale = [x['last_sale'] for x in self.data['assets']]\n",
    "        self.project_des = self.data['assets'][0]['asset_contract']['description']\n",
    "\n",
    "    def as_df(self): # cast attributes into df\n",
    "        return pd.DataFrame({'Token ID':self.token_id,'Name':self.name})\n",
    "    \n",
    "#     def collection(self):\n",
    "#         return pn.pane.Str(self.project_des)\n",
    "         \n",
    "\n",
    "#     def name(self):\n",
    "#         return pn.pane.Str(self.name)\n",
    "        \n",
    "\n",
    "#     def number_sales(self):\n",
    "#         return pn.pane.Str(self.num_sales)\n",
    "             \n",
    "    \n",
    "#     def dashboard_temp(self):\n",
    "#         dashboard = pn.Column(collection,\n",
    "#                     name,\n",
    "#                     number_sales,\n",
    "#                     floor_px,\n",
    "#                     nft_count,\n",
    "#                      )\n",
    "#         return dashboard"
   ]
  },
  {
   "cell_type": "code",
   "execution_count": 127,
   "id": "2fa46763",
   "metadata": {},
   "outputs": [],
   "source": [
    "url = 'https://api.opensea.io/api/v1/assets?asset_contract_address=0x4f89Cd0CAE1e54D98db6a80150a824a533502EEa&order_direction=desc&offset=0&limit=20'"
   ]
  },
  {
   "cell_type": "code",
   "execution_count": null,
   "id": "cc1ba22b",
   "metadata": {},
   "outputs": [],
   "source": [
    "osc = openseacollection(url)\n",
    "osc.dashboard_temp()"
   ]
  },
  {
   "cell_type": "markdown",
   "id": "06c14ced",
   "metadata": {},
   "source": [
    "### Single Item OpenSea API"
   ]
  },
  {
   "cell_type": "code",
   "execution_count": null,
   "id": "9f7a615d",
   "metadata": {},
   "outputs": [],
   "source": [
    "import requests\n",
    "import pandas as pd"
   ]
  },
  {
   "cell_type": "code",
   "execution_count": 77,
   "id": "181dce5a",
   "metadata": {},
   "outputs": [],
   "source": [
    "class OpenSeaItem:\n",
    "    def __init__ (self, url):\n",
    "        self.url = url   #assign query url to \"self.url\"\n",
    "        self.get_data()  #run get_data method\n",
    "        self.get_attributes() #run get attribute method\n",
    "\n",
    "    def get_data(self):\n",
    "        self.data = requests.request(\"GET\", self.url).json() #assign query json to \"self.data\"\n",
    "\n",
    "    def get_attributes(self):\n",
    "        self.asset_image = self.data['image_thumbnail_url']\n",
    "        self.currency_data = self.data['collection']['payment_tokens']\n",
    "        self.floor_price = self.data['collection']['stats']['floor_price']\n",
    "        self.total_supply = self.data['collection']['stats']['total_supply']\n",
    "        self.traits = [x['trait_type'] for x in self.data['traits']]\n",
    "        self.collection_name = self.data['collection']['name']\n",
    "        \n",
    "    \n",
    "    # def as_df(self):\n",
    "    #   return pd.DataFrame({'Token ID':self.token_id,'Name':self.name})"
   ]
  },
  {
   "cell_type": "code",
   "execution_count": 78,
   "id": "db5aba92",
   "metadata": {},
   "outputs": [
    {
     "data": {
      "text/plain": [
       "1.1"
      ]
     },
     "execution_count": 78,
     "metadata": {},
     "output_type": "execute_result"
    }
   ],
   "source": [
    "url = 'https://api.opensea.io/api/v1/asset/0x4f89Cd0CAE1e54D98db6a80150a824a533502EEa/7089/'\n",
    "\n",
    "os1 = OpenSeaItem(url)\n",
    "os1.floor_price"
   ]
  },
  {
   "cell_type": "code",
   "execution_count": null,
   "id": "59e6b7ba",
   "metadata": {},
   "outputs": [],
   "source": []
  },
  {
   "cell_type": "markdown",
   "id": "461ef213",
   "metadata": {},
   "source": [
    "### NBA TopShot OTM Module"
   ]
  },
  {
   "cell_type": "code",
   "execution_count": 21,
   "id": "466be892",
   "metadata": {},
   "outputs": [],
   "source": [
    "# imports\n",
    "\n",
    "import panel as pn\n",
    "import os\n",
    "import hvplot.pandas\n",
    "import requests\n",
    "import pandas as pd\n",
    "from dotenv import load_dotenv\n",
    "import requests\n",
    "from panel.interact import interact\n",
    "from panel import widgets\n",
    "import numpy as np"
   ]
  },
  {
   "cell_type": "code",
   "execution_count": null,
   "id": "5edfc5da",
   "metadata": {},
   "outputs": [],
   "source": []
  },
  {
   "cell_type": "code",
   "execution_count": 26,
   "id": "847d658d",
   "metadata": {},
   "outputs": [],
   "source": [
    "class nba:\n",
    "    def __init__ (self, csv):\n",
    "        self.csv = csv #assign csv to the class\n",
    "        self.clean_csv() #run data cleaning\n",
    "        self.get_attributes() #run get_attributes\n",
    "        self.value_plot()\n",
    "        self.player_pricing()\n",
    "        self.serial_price()\n",
    "        self.player_txn_count()\n",
    "        self.dash()\n",
    "        \n",
    "        \n",
    "        \n",
    "    def clean_csv(self):\n",
    "        df = pd.read_csv(self.csv,infer_datetime_format=True,parse_dates=True, index_col='Transaction Date')\n",
    "        df.index = df.index.date\n",
    "        df.sort_index(inplace=True)\n",
    "        self.df = df\n",
    "        \n",
    "    def player_txn_count(self):\n",
    "        number_of_transactions_df = self.df.groupby('Player Name').count().filter(['Player Name','Set'])\n",
    "        number_of_transactions_df.columns = ['Transaction Count']\n",
    "        number_of_transactions_df.sort_values('Transaction Count',inplace=True,ascending=False)\n",
    "        self.player_txn_count = number_of_transactions_df\n",
    "        \n",
    "    def ptc_plot(self):\n",
    "        return self.player_txn_count.hvplot.bar(rot=90,color='green')\n",
    "            \n",
    "    def get_attributes(self):\n",
    "        self.price_avg = self.df['Purchase Price'].mean\n",
    "        self.buyer = self.df.groupby('Buyer').size\n",
    "\n",
    "    def value_plot(self):\n",
    "        return self.df.hvplot.line()\n",
    "    \n",
    "    def serial_price(self):\n",
    "        return self.df.hvplot.scatter(x='Serial', y='Purchase Price', groupby = 'Player Name')\n",
    "    \n",
    "    def player_pricing(self):\n",
    "        return self.df.hvplot.line(y='Purchase Price',groupby='Player Name')\n",
    "    \n",
    "    def dash(self):\n",
    "        dashboard_title = \"NBA TopShot Evaluator\"\n",
    "        welcome_message = \"This is our NBA TopShot Evaluator.  Our mission is to help collectors value their NFT portfolios and identify opportunities.\"\n",
    "        serial_findings = \"We observe a correlation between low serial number and higher prices. With the current portfolio eval tools, an investors portfolio will not be accurately represented if they own low serials. Evaluation tools simply take the floor price of moments, and use that to determine portfolio value, leading to \"\n",
    "        all_star_icon = pn.pane.PNG('2021allstar.png', height=100, width=100)\n",
    "\n",
    "        welcome_column = pn.Column(\n",
    "            dashboard_title,\n",
    "            welcome_message,\n",
    "            all_star_icon\n",
    "#             '2021 All Star Set Value',set_value()            \n",
    "        )\n",
    "\n",
    "#         floor_column = pn.Column(\n",
    "#             all_star_icon,\n",
    "#             'Player Floor',player_floor(),\n",
    "#             'Historal Prices by Player', player_pricing()\n",
    "# )\n",
    "\n",
    "        serial_column = self.serial_price\n",
    "    \n",
    "        tabs = pn.Tabs(\n",
    "            (\"Welcome\",welcome_column),\n",
    "#             (\"2021 All Star Pricing\",floor_column),\n",
    "            (\"Serial Number/Price\",serial_column)\n",
    "        \n",
    "        )\n",
    "        \n",
    "        return tabs\n"
   ]
  },
  {
   "cell_type": "code",
   "execution_count": 23,
   "id": "fbd9c75f",
   "metadata": {},
   "outputs": [],
   "source": [
    "csv = '2021allstar.csv'"
   ]
  },
  {
   "cell_type": "code",
   "execution_count": 24,
   "id": "8fff93cf",
   "metadata": {},
   "outputs": [],
   "source": [
    "test = nba(csv)"
   ]
  },
  {
   "cell_type": "code",
   "execution_count": 27,
   "id": "f4d41110",
   "metadata": {},
   "outputs": [
    {
     "data": {},
     "metadata": {},
     "output_type": "display_data"
    },
    {
     "data": {
      "application/vnd.holoviews_exec.v0+json": "",
      "text/html": [
       "<div id='1244'>\n",
       "\n",
       "\n",
       "\n",
       "\n",
       "\n",
       "  <div class=\"bk-root\" id=\"da2ae32f-d938-4c74-9bbc-ddd7b59526c9\" data-root-id=\"1244\"></div>\n",
       "</div>\n",
       "<script type=\"application/javascript\">(function(root) {\n",
       "  function embed_document(root) {\n",
       "    var docs_json = {\"33a28875-cee5-42bf-9bf7-1a7e00f3a82c\":{\"defs\":[{\"extends\":null,\"module\":null,\"name\":\"ReactiveHTML1\",\"overrides\":[],\"properties\":[]},{\"extends\":null,\"module\":null,\"name\":\"FlexBox1\",\"overrides\":[],\"properties\":[{\"default\":\"flex-start\",\"kind\":null,\"name\":\"align_content\"},{\"default\":\"flex-start\",\"kind\":null,\"name\":\"align_items\"},{\"default\":\"row\",\"kind\":null,\"name\":\"flex_direction\"},{\"default\":\"wrap\",\"kind\":null,\"name\":\"flex_wrap\"},{\"default\":\"flex-start\",\"kind\":null,\"name\":\"justify_content\"}]},{\"extends\":null,\"module\":null,\"name\":\"TemplateActions1\",\"overrides\":[],\"properties\":[{\"default\":0,\"kind\":null,\"name\":\"open_modal\"},{\"default\":0,\"kind\":null,\"name\":\"close_modal\"}]},{\"extends\":null,\"module\":null,\"name\":\"MaterialTemplateActions1\",\"overrides\":[],\"properties\":[{\"default\":0,\"kind\":null,\"name\":\"open_modal\"},{\"default\":0,\"kind\":null,\"name\":\"close_modal\"}]}],\"roots\":{\"references\":[{\"attributes\":{},\"id\":\"1259\",\"type\":\"CategoricalTicker\"},{\"attributes\":{\"axis_label\":\"Transaction Count\",\"formatter\":{\"id\":\"1290\"},\"major_label_policy\":{\"id\":\"1291\"},\"ticker\":{\"id\":\"1262\"}},\"id\":\"1261\",\"type\":\"LinearAxis\"},{\"attributes\":{\"active_multi\":null,\"tools\":[{\"id\":\"1248\"},{\"id\":\"1265\"},{\"id\":\"1266\"},{\"id\":\"1267\"},{\"id\":\"1268\"},{\"id\":\"1269\"}]},\"id\":\"1271\",\"type\":\"Toolbar\"},{\"attributes\":{\"axis\":{\"id\":\"1261\"},\"dimension\":1,\"grid_line_color\":null,\"ticker\":null},\"id\":\"1264\",\"type\":\"Grid\"},{\"attributes\":{\"fill_alpha\":{\"value\":0.1},\"fill_color\":{\"value\":\"green\"},\"line_alpha\":{\"value\":0.1},\"top\":{\"field\":\"Transaction_Count\"},\"width\":{\"value\":0.8},\"x\":{\"field\":\"Player_Name\"}},\"id\":\"1282\",\"type\":\"VBar\"},{\"attributes\":{\"data\":{\"Player_Name\":[\"Donovan Mitchell\",\"Nikola Vu\\u010devi\\u0107\",\"Mike Conley\",\"Domantas Sabonis\",\"Luka Don\\u010di\\u0107\",\"Julius Randle\",\"Nikola Joki\\u0107\",\"Bradley Beal\",\"Zach LaVine\",\"James Harden\",\"Paul George\",\"Steph Curry\",\"Rudy Gobert\",\"Kyrie Irving\",\"Zion Williamson\",\"Jayson Tatum\",\"Kawhi Leonard\",\"Jaylen Brown\",\"LeBron James\",\"Chris Paul\",\"Giannis Antetokounmpo\",\"Damian Lillard\"],\"Transaction_Count\":[3011,2735,2466,2436,2234,2227,2203,2170,2167,2159,2153,2121,2096,2088,2087,2084,2045,2028,1960,1954,364,317]},\"selected\":{\"id\":\"1279\"},\"selection_policy\":{\"id\":\"1301\"}},\"id\":\"1278\",\"type\":\"ColumnDataSource\"},{\"attributes\":{\"bottom_units\":\"screen\",\"fill_alpha\":0.5,\"fill_color\":\"lightgrey\",\"left_units\":\"screen\",\"level\":\"overlay\",\"line_alpha\":1.0,\"line_color\":\"black\",\"line_dash\":[4,4],\"line_width\":2,\"right_units\":\"screen\",\"syncable\":false,\"top_units\":\"screen\"},\"id\":\"1270\",\"type\":\"BoxAnnotation\"},{\"attributes\":{\"source\":{\"id\":\"1278\"}},\"id\":\"1285\",\"type\":\"CDSView\"},{\"attributes\":{\"margin\":[5,5,5,5],\"name\":\"HSpacer03422\",\"sizing_mode\":\"stretch_width\"},\"id\":\"1245\",\"type\":\"Spacer\"},{\"attributes\":{\"data_source\":{\"id\":\"1278\"},\"glyph\":{\"id\":\"1281\"},\"hover_glyph\":null,\"muted_glyph\":{\"id\":\"1283\"},\"nonselection_glyph\":{\"id\":\"1282\"},\"selection_glyph\":{\"id\":\"1286\"},\"view\":{\"id\":\"1285\"}},\"id\":\"1284\",\"type\":\"GlyphRenderer\"},{\"attributes\":{},\"id\":\"1267\",\"type\":\"WheelZoomTool\"},{\"attributes\":{},\"id\":\"1279\",\"type\":\"Selection\"},{\"attributes\":{},\"id\":\"1290\",\"type\":\"BasicTickFormatter\"},{\"attributes\":{},\"id\":\"1265\",\"type\":\"SaveTool\"},{\"attributes\":{\"children\":[{\"id\":\"1245\"},{\"id\":\"1249\"},{\"id\":\"1313\"}],\"margin\":[0,0,0,0],\"name\":\"Row03418\",\"tags\":[\"embedded\"]},\"id\":\"1244\",\"type\":\"Row\"},{\"attributes\":{\"bottom\":{\"value\":0},\"fill_alpha\":{\"value\":1.0},\"fill_color\":{\"value\":\"green\"},\"hatch_alpha\":{\"value\":1.0},\"hatch_color\":{\"value\":\"black\"},\"hatch_scale\":{\"value\":12.0},\"hatch_weight\":{\"value\":1.0},\"line_alpha\":{\"value\":1.0},\"line_cap\":{\"value\":\"butt\"},\"line_color\":{\"value\":\"black\"},\"line_dash\":{\"value\":[]},\"line_dash_offset\":{\"value\":0},\"line_join\":{\"value\":\"bevel\"},\"line_width\":{\"value\":1},\"top\":{\"field\":\"Transaction_Count\"},\"width\":{\"value\":0.8},\"x\":{\"field\":\"Player_Name\"}},\"id\":\"1286\",\"type\":\"VBar\"},{\"attributes\":{},\"id\":\"1289\",\"type\":\"CategoricalTickFormatter\"},{\"attributes\":{\"below\":[{\"id\":\"1258\"}],\"center\":[{\"id\":\"1260\"},{\"id\":\"1264\"}],\"height\":300,\"left\":[{\"id\":\"1261\"}],\"margin\":[5,5,5,5],\"min_border_bottom\":10,\"min_border_left\":10,\"min_border_right\":10,\"min_border_top\":10,\"renderers\":[{\"id\":\"1284\"}],\"sizing_mode\":\"fixed\",\"title\":{\"id\":\"1250\"},\"toolbar\":{\"id\":\"1271\"},\"width\":700,\"x_range\":{\"id\":\"1246\"},\"x_scale\":{\"id\":\"1254\"},\"y_range\":{\"id\":\"1247\"},\"y_scale\":{\"id\":\"1256\"}},\"id\":\"1249\",\"subtype\":\"Figure\",\"type\":\"Plot\"},{\"attributes\":{\"margin\":[5,5,5,5],\"name\":\"HSpacer03423\",\"sizing_mode\":\"stretch_width\"},\"id\":\"1313\",\"type\":\"Spacer\"},{\"attributes\":{},\"id\":\"1266\",\"type\":\"PanTool\"},{\"attributes\":{},\"id\":\"1288\",\"type\":\"AllLabels\"},{\"attributes\":{\"end\":3280.4,\"reset_end\":3280.4,\"reset_start\":0.0,\"tags\":[[[\"Transaction Count\",\"Transaction Count\",null]]]},\"id\":\"1247\",\"type\":\"Range1d\"},{\"attributes\":{},\"id\":\"1269\",\"type\":\"ResetTool\"},{\"attributes\":{\"fill_color\":{\"value\":\"green\"},\"top\":{\"field\":\"Transaction_Count\"},\"width\":{\"value\":0.8},\"x\":{\"field\":\"Player_Name\"}},\"id\":\"1281\",\"type\":\"VBar\"},{\"attributes\":{},\"id\":\"1301\",\"type\":\"UnionRenderers\"},{\"attributes\":{\"axis_label\":\"Player Name\",\"formatter\":{\"id\":\"1289\"},\"major_label_orientation\":1.5707963267948966,\"major_label_policy\":{\"id\":\"1288\"},\"ticker\":{\"id\":\"1259\"}},\"id\":\"1258\",\"type\":\"CategoricalAxis\"},{\"attributes\":{\"overlay\":{\"id\":\"1270\"}},\"id\":\"1268\",\"type\":\"BoxZoomTool\"},{\"attributes\":{},\"id\":\"1262\",\"type\":\"BasicTicker\"},{\"attributes\":{\"fill_alpha\":{\"value\":0.2},\"fill_color\":{\"value\":\"green\"},\"line_alpha\":{\"value\":0.2},\"top\":{\"field\":\"Transaction_Count\"},\"width\":{\"value\":0.8},\"x\":{\"field\":\"Player_Name\"}},\"id\":\"1283\",\"type\":\"VBar\"},{\"attributes\":{\"callback\":null,\"renderers\":[{\"id\":\"1284\"}],\"tags\":[\"hv_created\"],\"tooltips\":[[\"Player Name\",\"@{Player_Name}\"],[\"Transaction Count\",\"@{Transaction_Count}\"]]},\"id\":\"1248\",\"type\":\"HoverTool\"},{\"attributes\":{},\"id\":\"1291\",\"type\":\"AllLabels\"},{\"attributes\":{},\"id\":\"1254\",\"type\":\"CategoricalScale\"},{\"attributes\":{\"factors\":[\"Donovan Mitchell\",\"Nikola Vu\\u010devi\\u0107\",\"Mike Conley\",\"Domantas Sabonis\",\"Luka Don\\u010di\\u0107\",\"Julius Randle\",\"Nikola Joki\\u0107\",\"Bradley Beal\",\"Zach LaVine\",\"James Harden\",\"Paul George\",\"Steph Curry\",\"Rudy Gobert\",\"Kyrie Irving\",\"Zion Williamson\",\"Jayson Tatum\",\"Kawhi Leonard\",\"Jaylen Brown\",\"LeBron James\",\"Chris Paul\",\"Giannis Antetokounmpo\",\"Damian Lillard\"],\"tags\":[[[\"Player Name\",\"Player Name\",null]]]},\"id\":\"1246\",\"type\":\"FactorRange\"},{\"attributes\":{\"text_color\":\"black\",\"text_font_size\":\"12pt\"},\"id\":\"1250\",\"type\":\"Title\"},{\"attributes\":{\"axis\":{\"id\":\"1258\"},\"grid_line_color\":null,\"ticker\":null},\"id\":\"1260\",\"type\":\"Grid\"},{\"attributes\":{},\"id\":\"1256\",\"type\":\"LinearScale\"}],\"root_ids\":[\"1244\"]},\"title\":\"Bokeh Application\",\"version\":\"2.3.2\"}};\n",
       "    var render_items = [{\"docid\":\"33a28875-cee5-42bf-9bf7-1a7e00f3a82c\",\"root_ids\":[\"1244\"],\"roots\":{\"1244\":\"da2ae32f-d938-4c74-9bbc-ddd7b59526c9\"}}];\n",
       "    root.Bokeh.embed.embed_items_notebook(docs_json, render_items);\n",
       "  }\n",
       "  if (root.Bokeh !== undefined && root.Bokeh.Panel !== undefined) {\n",
       "    embed_document(root);\n",
       "  } else {\n",
       "    var attempts = 0;\n",
       "    var timer = setInterval(function(root) {\n",
       "      if (root.Bokeh !== undefined && root.Bokeh.Panel !== undefined) {\n",
       "        clearInterval(timer);\n",
       "        embed_document(root);\n",
       "      } else if (document.readyState == \"complete\") {\n",
       "        attempts++;\n",
       "        if (attempts > 200) {\n",
       "          clearInterval(timer);\n",
       "          console.log(\"Bokeh: ERROR: Unable to run BokehJS code because BokehJS library is missing\");\n",
       "        }\n",
       "      }\n",
       "    }, 25, root)\n",
       "  }\n",
       "})(window);</script>"
      ],
      "text/plain": [
       ":Bars   [Player Name]   (Transaction Count)"
      ]
     },
     "execution_count": 27,
     "metadata": {
      "application/vnd.holoviews_exec.v0+json": {
       "id": "1244"
      }
     },
     "output_type": "execute_result"
    }
   ],
   "source": [
    "test.ptc_plot()"
   ]
  },
  {
   "cell_type": "code",
   "execution_count": null,
   "id": "e90cdd2d",
   "metadata": {},
   "outputs": [],
   "source": []
  }
 ],
 "metadata": {
  "kernelspec": {
   "display_name": "Python [conda env:pyvizenv] *",
   "language": "python",
   "name": "conda-env-pyvizenv-py"
  },
  "language_info": {
   "codemirror_mode": {
    "name": "ipython",
    "version": 3
   },
   "file_extension": ".py",
   "mimetype": "text/x-python",
   "name": "python",
   "nbconvert_exporter": "python",
   "pygments_lexer": "ipython3",
   "version": "3.7.10"
  }
 },
 "nbformat": 4,
 "nbformat_minor": 5
}
